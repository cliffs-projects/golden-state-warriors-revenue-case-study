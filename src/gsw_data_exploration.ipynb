{
 "cells": [
  {
   "cell_type": "code",
   "execution_count": 490,
   "metadata": {},
   "outputs": [],
   "source": [
    "import pandas as pd \n",
    "from datetime import datetime\n",
    "import matplotlib.pyplot as plt"
   ]
  },
  {
   "cell_type": "code",
   "execution_count": 491,
   "metadata": {},
   "outputs": [
    {
     "name": "stdout",
     "output_type": "stream",
     "text": [
      "  Transaction_date  Transaction_ID  Gender   Age Marital_status  State_names  \\\n",
      "0         1/1/2019          151200  Female  19.0         Single       Kansas   \n",
      "1         1/1/2019          151201    Male  49.0         Single     Illinois   \n",
      "2         1/1/2019          151202    Male  63.0        Married   New Mexico   \n",
      "3         1/1/2019          151203     NaN  18.0         Single     Virginia   \n",
      "4         1/1/2019          151204    Male  27.0         Single  Connecticut   \n",
      "\n",
      "    Segment Employees_status Payment_method  Referal  Amount_spent  \n",
      "0     Basic     Unemployment          Other      1.0       2051.36  \n",
      "1     Basic    self-employed           Card      0.0        544.04  \n",
      "2     Basic          workers         PayPal      1.0       1572.60  \n",
      "3  Platinum          workers           Card      1.0       1199.79  \n",
      "4     Basic    self-employed           Card      0.0           NaN  \n"
     ]
    }
   ],
   "source": [
    "online_cust_data = pd.read_csv(\"online_store_customer_data.csv\")\n",
    "print(online_cust_data.head())"
   ]
  },
  {
   "cell_type": "code",
   "execution_count": 492,
   "metadata": {},
   "outputs": [
    {
     "name": "stdout",
     "output_type": "stream",
     "text": [
      "['Other' 'Card' 'PayPal']\n"
     ]
    }
   ],
   "source": [
    "print(online_cust_data['Payment_method'].unique())"
   ]
  },
  {
   "cell_type": "code",
   "execution_count": 493,
   "metadata": {},
   "outputs": [
    {
     "name": "stdout",
     "output_type": "stream",
     "text": [
      "  invoice_no customer_id  gender  age  category  quantity    price  \\\n",
      "0    I138884     C241288  Female   28  Clothing         5  1500.40   \n",
      "1    I317333     C111565    Male   21     Shoes         3  1800.51   \n",
      "2    I127801     C266599    Male   20  Clothing         1   300.08   \n",
      "3    I173702     C988172  Female   66     Shoes         5  3000.85   \n",
      "4    I337046     C189076  Female   53     Books         4    60.60   \n",
      "\n",
      "  payment_method invoice_date   shopping_mall  \n",
      "0    Credit Card     5/8/2022          Kanyon  \n",
      "1     Debit Card   12/12/2021  Forum Istanbul  \n",
      "2           Cash    9/11/2021       Metrocity  \n",
      "3    Credit Card   16/05/2021    Metropol AVM  \n",
      "4           Cash   24/10/2021          Kanyon  \n"
     ]
    }
   ],
   "source": [
    "cust_data = pd.read_csv(\"customer_shopping_data.csv\")\n",
    "print(cust_data.head())"
   ]
  },
  {
   "cell_type": "code",
   "execution_count": 494,
   "metadata": {},
   "outputs": [
    {
     "name": "stdout",
     "output_type": "stream",
     "text": [
      "   Transaction_date  Transaction_ID  Gender   Age Marital_status State_names  \\\n",
      "0          1/1/2019          151200  Female  19.0         Single      Kansas   \n",
      "11         1/5/2019          151211  Female  63.0        Married    Colorado   \n",
      "14         1/5/2019          151214    Male  24.0        Married    Colorado   \n",
      "15         1/6/2019          151215    Male  16.0         Single    New York   \n",
      "18         1/7/2019          151218    Male  42.0        Married    Maryland   \n",
      "\n",
      "     Segment Employees_status Payment_method  Referal  Amount_spent  \n",
      "0      Basic     Unemployment          Other      1.0       2051.36  \n",
      "11     Basic          workers          Other      1.0        154.31  \n",
      "14  Platinum    self-employed          Other      1.0        954.12  \n",
      "15  Platinum          workers          Other      1.0       1005.92  \n",
      "18     Basic    self-employed          Other      0.0       1902.73  \n"
     ]
    },
    {
     "name": "stderr",
     "output_type": "stream",
     "text": [
      "<ipython-input-494-37fd1641852d>:3: SettingWithCopyWarning: \n",
      "A value is trying to be set on a copy of a slice from a DataFrame\n",
      "\n",
      "See the caveats in the documentation: https://pandas.pydata.org/pandas-docs/stable/user_guide/indexing.html#returning-a-view-versus-a-copy\n",
      "  quick_online_cust.dropna(inplace=True)\n"
     ]
    }
   ],
   "source": [
    "# Assume all 'other' payment method purchases are quick checkout\n",
    "quick_online_cust = online_cust_data.loc[online_cust_data['Payment_method']=='Other']\n",
    "quick_online_cust.dropna(inplace=True)\n",
    "print(quick_online_cust.head()) # 2044 rows"
   ]
  },
  {
   "cell_type": "code",
   "execution_count": 495,
   "metadata": {},
   "outputs": [
    {
     "name": "stdout",
     "output_type": "stream",
     "text": [
      "    Year  Month  Amount_spent     Date\n",
      "0   2019      1      18719.68  2019-01\n",
      "1   2019      2      19236.90  2019-02\n",
      "2   2019      3      31934.27  2019-03\n",
      "3   2019      4      26300.97  2019-04\n",
      "4   2019      5      27934.44  2019-05\n",
      "5   2019      6      21363.04  2019-06\n",
      "6   2019      7      21002.55  2019-07\n",
      "7   2019      8      25614.71  2019-08\n",
      "8   2019      9       6916.75  2019-09\n",
      "9   2019     10      36412.75  2019-10\n",
      "10  2019     11      10832.07  2019-11\n",
      "11  2019     12      26077.71  2019-12\n",
      "12  2020      1      35819.37  2020-01\n",
      "13  2020      2      37530.03  2020-02\n",
      "14  2020      3      29715.23  2020-03\n",
      "15  2020      4      20497.61  2020-04\n",
      "16  2020      5      20575.20  2020-05\n",
      "17  2020      6      41298.29  2020-06\n",
      "18  2020      7      15259.47  2020-07\n",
      "19  2020      8      34506.18  2020-08\n",
      "20  2020      9      30616.73  2020-09\n",
      "21  2020     10      25634.96  2020-10\n",
      "22  2020     11      25139.00  2020-11\n",
      "23  2020     12      31049.85  2020-12\n",
      "24  2021      1      28985.80  2021-01\n",
      "25  2021      2      13967.32  2021-02\n",
      "26  2021      3      43238.10  2021-03\n",
      "27  2021      4      19553.89  2021-04\n"
     ]
    },
    {
     "name": "stderr",
     "output_type": "stream",
     "text": [
      "<ipython-input-495-675f64eda4e9>:2: SettingWithCopyWarning: \n",
      "A value is trying to be set on a copy of a slice from a DataFrame.\n",
      "Try using .loc[row_indexer,col_indexer] = value instead\n",
      "\n",
      "See the caveats in the documentation: https://pandas.pydata.org/pandas-docs/stable/user_guide/indexing.html#returning-a-view-versus-a-copy\n",
      "  quick_online_cust['Month'] = pd.DatetimeIndex(quick_online_cust['Transaction_date']).month\n",
      "<ipython-input-495-675f64eda4e9>:3: SettingWithCopyWarning: \n",
      "A value is trying to be set on a copy of a slice from a DataFrame.\n",
      "Try using .loc[row_indexer,col_indexer] = value instead\n",
      "\n",
      "See the caveats in the documentation: https://pandas.pydata.org/pandas-docs/stable/user_guide/indexing.html#returning-a-view-versus-a-copy\n",
      "  quick_online_cust['Year'] = pd.DatetimeIndex(quick_online_cust['Transaction_date']).year\n"
     ]
    }
   ],
   "source": [
    "# monthly gross revneue \n",
    "quick_online_cust['Month'] = pd.DatetimeIndex(quick_online_cust['Transaction_date']).month\n",
    "quick_online_cust['Year'] = pd.DatetimeIndex(quick_online_cust['Transaction_date']).year\n",
    "mrr_quick_cust = quick_online_cust[['Year', 'Month', 'Amount_spent']].groupby(['Year', 'Month']).sum()\n",
    "mrr_quick_cust = mrr_quick_cust.reset_index()\n",
    "mrr_quick_cust['Date'] = mrr_quick_cust['Month'].astype('str') + ',' + mrr_quick_cust['Year'].astype('str')\n",
    "mrr_quick_cust['Date'] = pd.to_datetime(mrr_quick_cust['Date'], format='%m,%Y')\n",
    "mrr_quick_cust['Date'] = mrr_quick_cust['Date'].dt.to_period('M')\n",
    "print(mrr_quick_cust)"
   ]
  },
  {
   "cell_type": "code",
   "execution_count": 496,
   "metadata": {},
   "outputs": [
    {
     "name": "stdout",
     "output_type": "stream",
     "text": [
      "   Year  Month Payment_method  Amount_spent  Monthly_total  percent_rev\n",
      "0  2019      1           Card      41826.62      113882.32     0.367279\n",
      "1  2019      1          Other      19448.46      113882.32     0.170777\n",
      "2  2019      1         PayPal      52607.24      113882.32     0.461944\n",
      "3  2019      2           Card      30229.75      106313.09     0.284346\n",
      "4  2019      2          Other      20271.05      106313.09     0.190673\n",
      "5  2019      2         PayPal      55812.29      106313.09     0.524980\n",
      "6  2019      3           Card      35754.23      126771.31     0.282037\n",
      "7  2019      3          Other      32239.34      126771.31     0.254311\n",
      "8  2019      3         PayPal      58777.74      126771.31     0.463652\n",
      "9  2019      4           Card      41814.48      136747.49     0.305779\n"
     ]
    }
   ],
   "source": [
    "# % of revenue per channel per month\n",
    "# print(online_cust_data.head())\n",
    "online_cust_data['Month'] = pd.DatetimeIndex(online_cust_data['Transaction_date']).month\n",
    "online_cust_data['Year'] = pd.DatetimeIndex(online_cust_data['Transaction_date']).year\n",
    "rev_per_channel = online_cust_data[['Year', 'Month', 'Payment_method', 'Amount_spent']].groupby(['Year', 'Month', 'Payment_method']).sum()\n",
    "mth_rev_channel = online_cust_data[['Year', 'Month', 'Amount_spent']].groupby(['Year', 'Month']).sum()\n",
    "rev_per_channel = rev_per_channel.reset_index()\n",
    "mth_rev_channel = mth_rev_channel.reset_index()\n",
    "mth_rev_channel.columns = ['Year', 'Month', 'Monthly_total']\n",
    "perc_rev_channel = rev_per_channel.merge(mth_rev_channel, on=['Year', 'Month'])\n",
    "perc_rev_channel['percent_rev'] = perc_rev_channel['Amount_spent'] / perc_rev_channel['Monthly_total']\n",
    "print(perc_rev_channel.head(10))"
   ]
  },
  {
   "cell_type": "code",
   "execution_count": 497,
   "metadata": {},
   "outputs": [
    {
     "name": "stdout",
     "output_type": "stream",
     "text": [
      "   Year  Month Payment_method  Amount_spent  Monthly_total  percent_rev  \\\n",
      "0  2019      1           Card      41826.62      113882.32     0.367279   \n",
      "1  2019      1          Other      19448.46      113882.32     0.170777   \n",
      "2  2019      1         PayPal      52607.24      113882.32     0.461944   \n",
      "3  2019      2           Card      30229.75      106313.09     0.284346   \n",
      "4  2019      2          Other      20271.05      106313.09     0.190673   \n",
      "\n",
      "      Date  \n",
      "0  2019-01  \n",
      "1  2019-01  \n",
      "2  2019-01  \n",
      "3  2019-02  \n",
      "4  2019-02  \n"
     ]
    }
   ],
   "source": [
    "perc_rev_channel['Date'] = perc_rev_channel['Month'].astype('str') + ',' + perc_rev_channel['Year'].astype('str')\n",
    "perc_rev_channel['Date'] = pd.to_datetime(perc_rev_channel['Date'], format='%m,%Y')\n",
    "perc_rev_channel['Date'] = perc_rev_channel['Date'].dt.to_period('M')\n",
    "\n",
    "print(perc_rev_channel.head())"
   ]
  },
  {
   "cell_type": "code",
   "execution_count": 498,
   "metadata": {},
   "outputs": [
    {
     "name": "stderr",
     "output_type": "stream",
     "text": [
      "<ipython-input-498-66a6bcfbf740>:5: MatplotlibDeprecationWarning: Adding an axes using the same arguments as a previous axes currently reuses the earlier instance.  In a future version, a new instance will always be created and returned.  Meanwhile, this warning can be suppressed, and the future behavior ensured, by passing a unique label to each axes instance.\n",
      "  plt.axes().set_facecolor(\"#1D428A\")\n",
      "<ipython-input-498-66a6bcfbf740>:6: MatplotlibDeprecationWarning: Adding an axes using the same arguments as a previous axes currently reuses the earlier instance.  In a future version, a new instance will always be created and returned.  Meanwhile, this warning can be suppressed, and the future behavior ensured, by passing a unique label to each axes instance.\n",
      "  plt.axes().spines['top'].set_color(\"#1D428A\")\n",
      "<ipython-input-498-66a6bcfbf740>:7: MatplotlibDeprecationWarning: Adding an axes using the same arguments as a previous axes currently reuses the earlier instance.  In a future version, a new instance will always be created and returned.  Meanwhile, this warning can be suppressed, and the future behavior ensured, by passing a unique label to each axes instance.\n",
      "  plt.axes().spines['right'].set_color(\"#1D428A\")\n"
     ]
    },
    {
     "data": {
      "image/png": "[encoded data removed]",
      "text/plain": [
       "<Figure size 1008x432 with 1 Axes>"
      ]
     },
     "metadata": {},
     "output_type": "display_data"
    }
   ],
   "source": [
    "# plot findings - gross monthly revenue\n",
    "plt.figure(figsize=(14,6), facecolor=\"#1D428A\")\n",
    "plt.tick_params(axis='x', colors='white')\n",
    "plt.tick_params(axis='y', colors='white')\n",
    "plt.axes().set_facecolor(\"#1D428A\")\n",
    "plt.axes().spines['top'].set_color(\"#1D428A\")\n",
    "plt.axes().spines['right'].set_color(\"#1D428A\")\n",
    "plt.xticks(rotation=40)\n",
    "plt.xlabel('Dates (YYYY-MM)', fontsize=15, color='white')\n",
    "plt.ylabel('Sales ($)', fontsize=15, color='white')\n",
    "plt.title('Gross Monthly Revenue from Quick Checkout Concession Sales', fontsize=24, color='white')\n",
    "plt.bar(mrr_quick_cust['Date'].astype('str'), mrr_quick_cust['Amount_spent'], color='yellow')\n",
    "plt.grid(axis='y', linewidth=1, color=\"#5494DA\", linestyle='--')\n",
    "plt.show()"
   ]
  },
  {
   "cell_type": "code",
   "execution_count": 499,
   "metadata": {},
   "outputs": [
    {
     "name": "stdout",
     "output_type": "stream",
     "text": [
      "       Date  Amount_spent\n",
      "0   2019-01      18719.68\n",
      "1   2019-02      19236.90\n",
      "2   2019-03      31934.27\n",
      "3   2019-04      26300.97\n",
      "4   2019-05      27934.44\n",
      "5   2019-06      21363.04\n",
      "6   2019-07      21002.55\n",
      "7   2019-08      25614.71\n",
      "8   2019-09       6916.75\n",
      "9   2019-10      36412.75\n",
      "10  2019-11      10832.07\n",
      "11  2019-12      26077.71\n",
      "12  2020-01      35819.37\n",
      "13  2020-02      37530.03\n",
      "14  2020-03      29715.23\n",
      "15  2020-04      20497.61\n",
      "16  2020-05      20575.20\n",
      "17  2020-06      41298.29\n",
      "18  2020-07      15259.47\n",
      "19  2020-08      34506.18\n",
      "20  2020-09      30616.73\n",
      "21  2020-10      25634.96\n",
      "22  2020-11      25139.00\n",
      "23  2020-12      31049.85\n",
      "24  2021-01      28985.80\n",
      "25  2021-02      13967.32\n",
      "26  2021-03      43238.10\n",
      "27  2021-04      19553.89\n",
      "25919.031071428566\n",
      "8926.894727143714\n"
     ]
    }
   ],
   "source": [
    "print(mrr_quick_cust[['Date', 'Amount_spent']])\n",
    "print(mrr_quick_cust['Amount_spent'].mean())\n",
    "print(mrr_quick_cust['Amount_spent'].std())"
   ]
  },
  {
   "cell_type": "code",
   "execution_count": 500,
   "metadata": {},
   "outputs": [
    {
     "name": "stdout",
     "output_type": "stream",
     "text": [
      "       Date  Amount_spent   std_dev\n",
      "0   2019-01      18719.68 -0.806479\n",
      "1   2019-02      19236.90 -0.748539\n",
      "2   2019-03      31934.27  0.673833\n",
      "3   2019-04      26300.97  0.042785\n",
      "4   2019-05      27934.44  0.225768\n",
      "5   2019-06      21363.04 -0.510367\n",
      "6   2019-07      21002.55 -0.550749\n",
      "7   2019-08      25614.71 -0.034090\n",
      "8   2019-09       6916.75 -2.128655\n",
      "9   2019-10      36412.75  1.175517\n",
      "10  2019-11      10832.07 -1.690057\n",
      "11  2019-12      26077.71  0.017775\n",
      "12  2020-01      35819.37  1.109046\n",
      "13  2020-02      37530.03  1.300676\n",
      "14  2020-03      29715.23  0.425254\n",
      "15  2020-04      20497.61 -0.607313\n",
      "16  2020-05      20575.20 -0.598621\n",
      "17  2020-06      41298.29  1.722801\n",
      "18  2020-07      15259.47 -1.194095\n",
      "19  2020-08      34506.18  0.961941\n",
      "20  2020-09      30616.73  0.526241\n",
      "21  2020-10      25634.96 -0.031822\n",
      "22  2020-11      25139.00 -0.087380\n",
      "23  2020-12      31049.85  0.574760\n",
      "24  2021-01      28985.80  0.343543\n",
      "25  2021-02      13967.32 -1.338843\n",
      "26  2021-03      43238.10  1.940100\n",
      "27  2021-04      19553.89 -0.713030\n"
     ]
    }
   ],
   "source": [
    "mrr_quick_cust['std_dev'] = (mrr_quick_cust['Amount_spent'] - mrr_quick_cust['Amount_spent'].mean())/mrr_quick_cust['Amount_spent'].std()\n",
    "print(mrr_quick_cust[['Date', 'Amount_spent', 'std_dev']])"
   ]
  },
  {
   "cell_type": "code",
   "execution_count": 501,
   "metadata": {},
   "outputs": [
    {
     "name": "stdout",
     "output_type": "stream",
     "text": [
      "                   Date percent_rev                    \n",
      "Payment_method                 Card     Other    PayPal\n",
      "0               2019-01    0.367279  0.170777  0.461944\n",
      "1               2019-02    0.284346  0.190673  0.524980\n",
      "2               2019-03    0.282037  0.254311  0.463652\n",
      "3               2019-04    0.305779  0.202378  0.491843\n",
      "4               2019-05    0.369675  0.222398  0.407927\n"
     ]
    }
   ],
   "source": [
    "pivot = pd.pivot_table(data = perc_rev_channel[['Date', 'Payment_method', 'percent_rev']], index=['Date'], columns=['Payment_method'])\n",
    "pivot.reset_index(inplace=True)\n",
    "# pivot.rename(columns={'(\"Date\", '')':'date', 'percent_rev, Card': \"perc_rev_share_card\", '(percent_rev, Other)': \"perc_rev_share_other\", '(percent_rev, PayPal)': 'perc_rev_share_paypal'}, inplace=True)\n",
    "print(pivot.head())"
   ]
  },
  {
   "cell_type": "code",
   "execution_count": 502,
   "metadata": {},
   "outputs": [
    {
     "ename": "TypeError",
     "evalue": "Invalid comparison between dtype=period[M] and int",
     "output_type": "error",
     "traceback": [
      "\u001b[1;31m---------------------------------------------------------------------------\u001b[0m",
      "\u001b[1;31mInvalidComparison\u001b[0m                         Traceback (most recent call last)",
      "\u001b[1;32mc:\\Users\\cliff\\anaconda3\\lib\\site-packages\\pandas\\core\\arrays\\datetimelike.py\u001b[0m in \u001b[0;36mwrapper\u001b[1;34m(self, other)\u001b[0m\n\u001b[0;32m    115\u001b[0m         \u001b[1;32mtry\u001b[0m\u001b[1;33m:\u001b[0m\u001b[1;33m\u001b[0m\u001b[1;33m\u001b[0m\u001b[0m\n\u001b[1;32m--> 116\u001b[1;33m             \u001b[0mother\u001b[0m \u001b[1;33m=\u001b[0m \u001b[0m_validate_comparison_value\u001b[0m\u001b[1;33m(\u001b[0m\u001b[0mself\u001b[0m\u001b[1;33m,\u001b[0m \u001b[0mother\u001b[0m\u001b[1;33m)\u001b[0m\u001b[1;33m\u001b[0m\u001b[1;33m\u001b[0m\u001b[0m\n\u001b[0m\u001b[0;32m    117\u001b[0m         \u001b[1;32mexcept\u001b[0m \u001b[0mInvalidComparison\u001b[0m\u001b[1;33m:\u001b[0m\u001b[1;33m\u001b[0m\u001b[1;33m\u001b[0m\u001b[0m\n",
      "\u001b[1;32mc:\\Users\\cliff\\anaconda3\\lib\\site-packages\\pandas\\core\\arrays\\datetimelike.py\u001b[0m in \u001b[0;36m_validate_comparison_value\u001b[1;34m(self, other)\u001b[0m\n\u001b[0;32m     95\u001b[0m         \u001b[1;32melif\u001b[0m \u001b[1;32mnot\u001b[0m \u001b[0mis_list_like\u001b[0m\u001b[1;33m(\u001b[0m\u001b[0mother\u001b[0m\u001b[1;33m)\u001b[0m\u001b[1;33m:\u001b[0m\u001b[1;33m\u001b[0m\u001b[1;33m\u001b[0m\u001b[0m\n\u001b[1;32m---> 96\u001b[1;33m             \u001b[1;32mraise\u001b[0m \u001b[0mInvalidComparison\u001b[0m\u001b[1;33m(\u001b[0m\u001b[0mother\u001b[0m\u001b[1;33m)\u001b[0m\u001b[1;33m\u001b[0m\u001b[1;33m\u001b[0m\u001b[0m\n\u001b[0m\u001b[0;32m     97\u001b[0m \u001b[1;33m\u001b[0m\u001b[0m\n",
      "\u001b[1;31mInvalidComparison\u001b[0m: 2019",
      "\nDuring handling of the above exception, another exception occurred:\n",
      "\u001b[1;31mTypeError\u001b[0m                                 Traceback (most recent call last)",
      "\u001b[1;32m<ipython-input-502-cfa6ed38993b>\u001b[0m in \u001b[0;36m<module>\u001b[1;34m\u001b[0m\n\u001b[0;32m      1\u001b[0m \u001b[0mpivot_reorder\u001b[0m \u001b[1;33m=\u001b[0m \u001b[0mpivot\u001b[0m\u001b[1;33m.\u001b[0m\u001b[0miloc\u001b[0m\u001b[1;33m[\u001b[0m\u001b[1;33m:\u001b[0m\u001b[1;33m,\u001b[0m \u001b[1;33m[\u001b[0m\u001b[1;36m0\u001b[0m\u001b[1;33m,\u001b[0m\u001b[1;36m2\u001b[0m\u001b[1;33m,\u001b[0m\u001b[1;36m1\u001b[0m\u001b[1;33m,\u001b[0m\u001b[1;36m3\u001b[0m\u001b[1;33m]\u001b[0m\u001b[1;33m]\u001b[0m\u001b[1;33m\u001b[0m\u001b[1;33m\u001b[0m\u001b[0m\n\u001b[1;32m----> 2\u001b[1;33m \u001b[0mpivot_reorder\u001b[0m \u001b[1;33m=\u001b[0m \u001b[0mpivot_reorder\u001b[0m\u001b[1;33m[\u001b[0m\u001b[0mpivot_reorder\u001b[0m\u001b[1;33m[\u001b[0m\u001b[1;34m'Date'\u001b[0m\u001b[1;33m]\u001b[0m \u001b[1;33m>\u001b[0m \u001b[1;36m2019\u001b[0m\u001b[1;33m]\u001b[0m\u001b[1;33m\u001b[0m\u001b[1;33m\u001b[0m\u001b[0m\n\u001b[0m\u001b[0;32m      3\u001b[0m \u001b[0mprint\u001b[0m\u001b[1;33m(\u001b[0m\u001b[0mpivot_reorder\u001b[0m\u001b[1;33m.\u001b[0m\u001b[0mhead\u001b[0m\u001b[1;33m(\u001b[0m\u001b[1;33m)\u001b[0m\u001b[1;33m)\u001b[0m\u001b[1;33m\u001b[0m\u001b[1;33m\u001b[0m\u001b[0m\n",
      "\u001b[1;32mc:\\Users\\cliff\\anaconda3\\lib\\site-packages\\pandas\\core\\ops\\common.py\u001b[0m in \u001b[0;36mnew_method\u001b[1;34m(self, other)\u001b[0m\n\u001b[0;32m     63\u001b[0m         \u001b[0mother\u001b[0m \u001b[1;33m=\u001b[0m \u001b[0mitem_from_zerodim\u001b[0m\u001b[1;33m(\u001b[0m\u001b[0mother\u001b[0m\u001b[1;33m)\u001b[0m\u001b[1;33m\u001b[0m\u001b[1;33m\u001b[0m\u001b[0m\n\u001b[0;32m     64\u001b[0m \u001b[1;33m\u001b[0m\u001b[0m\n\u001b[1;32m---> 65\u001b[1;33m         \u001b[1;32mreturn\u001b[0m \u001b[0mmethod\u001b[0m\u001b[1;33m(\u001b[0m\u001b[0mself\u001b[0m\u001b[1;33m,\u001b[0m \u001b[0mother\u001b[0m\u001b[1;33m)\u001b[0m\u001b[1;33m\u001b[0m\u001b[1;33m\u001b[0m\u001b[0m\n\u001b[0m\u001b[0;32m     66\u001b[0m \u001b[1;33m\u001b[0m\u001b[0m\n\u001b[0;32m     67\u001b[0m     \u001b[1;32mreturn\u001b[0m \u001b[0mnew_method\u001b[0m\u001b[1;33m\u001b[0m\u001b[1;33m\u001b[0m\u001b[0m\n",
      "\u001b[1;32mc:\\Users\\cliff\\anaconda3\\lib\\site-packages\\pandas\\core\\ops\\__init__.py\u001b[0m in \u001b[0;36mwrapper\u001b[1;34m(self, other)\u001b[0m\n\u001b[0;32m    368\u001b[0m         \u001b[0mrvalues\u001b[0m \u001b[1;33m=\u001b[0m \u001b[0mextract_array\u001b[0m\u001b[1;33m(\u001b[0m\u001b[0mother\u001b[0m\u001b[1;33m,\u001b[0m \u001b[0mextract_numpy\u001b[0m\u001b[1;33m=\u001b[0m\u001b[1;32mTrue\u001b[0m\u001b[1;33m)\u001b[0m\u001b[1;33m\u001b[0m\u001b[1;33m\u001b[0m\u001b[0m\n\u001b[0;32m    369\u001b[0m \u001b[1;33m\u001b[0m\u001b[0m\n\u001b[1;32m--> 370\u001b[1;33m         \u001b[0mres_values\u001b[0m \u001b[1;33m=\u001b[0m \u001b[0mcomparison_op\u001b[0m\u001b[1;33m(\u001b[0m\u001b[0mlvalues\u001b[0m\u001b[1;33m,\u001b[0m \u001b[0mrvalues\u001b[0m\u001b[1;33m,\u001b[0m \u001b[0mop\u001b[0m\u001b[1;33m)\u001b[0m\u001b[1;33m\u001b[0m\u001b[1;33m\u001b[0m\u001b[0m\n\u001b[0m\u001b[0;32m    371\u001b[0m \u001b[1;33m\u001b[0m\u001b[0m\n\u001b[0;32m    372\u001b[0m         \u001b[1;32mreturn\u001b[0m \u001b[0mself\u001b[0m\u001b[1;33m.\u001b[0m\u001b[0m_construct_result\u001b[0m\u001b[1;33m(\u001b[0m\u001b[0mres_values\u001b[0m\u001b[1;33m,\u001b[0m \u001b[0mname\u001b[0m\u001b[1;33m=\u001b[0m\u001b[0mres_name\u001b[0m\u001b[1;33m)\u001b[0m\u001b[1;33m\u001b[0m\u001b[1;33m\u001b[0m\u001b[0m\n",
      "\u001b[1;32mc:\\Users\\cliff\\anaconda3\\lib\\site-packages\\pandas\\core\\ops\\array_ops.py\u001b[0m in \u001b[0;36mcomparison_op\u001b[1;34m(left, right, op)\u001b[0m\n\u001b[0;32m    227\u001b[0m     \u001b[1;32mif\u001b[0m \u001b[0mshould_extension_dispatch\u001b[0m\u001b[1;33m(\u001b[0m\u001b[0mlvalues\u001b[0m\u001b[1;33m,\u001b[0m \u001b[0mrvalues\u001b[0m\u001b[1;33m)\u001b[0m\u001b[1;33m:\u001b[0m\u001b[1;33m\u001b[0m\u001b[1;33m\u001b[0m\u001b[0m\n\u001b[0;32m    228\u001b[0m         \u001b[1;31m# Call the method on lvalues\u001b[0m\u001b[1;33m\u001b[0m\u001b[1;33m\u001b[0m\u001b[1;33m\u001b[0m\u001b[0m\n\u001b[1;32m--> 229\u001b[1;33m         \u001b[0mres_values\u001b[0m \u001b[1;33m=\u001b[0m \u001b[0mop\u001b[0m\u001b[1;33m(\u001b[0m\u001b[0mlvalues\u001b[0m\u001b[1;33m,\u001b[0m \u001b[0mrvalues\u001b[0m\u001b[1;33m)\u001b[0m\u001b[1;33m\u001b[0m\u001b[1;33m\u001b[0m\u001b[0m\n\u001b[0m\u001b[0;32m    230\u001b[0m \u001b[1;33m\u001b[0m\u001b[0m\n\u001b[0;32m    231\u001b[0m     \u001b[1;32melif\u001b[0m \u001b[0mis_scalar\u001b[0m\u001b[1;33m(\u001b[0m\u001b[0mrvalues\u001b[0m\u001b[1;33m)\u001b[0m \u001b[1;32mand\u001b[0m \u001b[0misna\u001b[0m\u001b[1;33m(\u001b[0m\u001b[0mrvalues\u001b[0m\u001b[1;33m)\u001b[0m\u001b[1;33m:\u001b[0m\u001b[1;33m\u001b[0m\u001b[1;33m\u001b[0m\u001b[0m\n",
      "\u001b[1;32mc:\\Users\\cliff\\anaconda3\\lib\\site-packages\\pandas\\core\\ops\\common.py\u001b[0m in \u001b[0;36mnew_method\u001b[1;34m(self, other)\u001b[0m\n\u001b[0;32m     63\u001b[0m         \u001b[0mother\u001b[0m \u001b[1;33m=\u001b[0m \u001b[0mitem_from_zerodim\u001b[0m\u001b[1;33m(\u001b[0m\u001b[0mother\u001b[0m\u001b[1;33m)\u001b[0m\u001b[1;33m\u001b[0m\u001b[1;33m\u001b[0m\u001b[0m\n\u001b[0;32m     64\u001b[0m \u001b[1;33m\u001b[0m\u001b[0m\n\u001b[1;32m---> 65\u001b[1;33m         \u001b[1;32mreturn\u001b[0m \u001b[0mmethod\u001b[0m\u001b[1;33m(\u001b[0m\u001b[0mself\u001b[0m\u001b[1;33m,\u001b[0m \u001b[0mother\u001b[0m\u001b[1;33m)\u001b[0m\u001b[1;33m\u001b[0m\u001b[1;33m\u001b[0m\u001b[0m\n\u001b[0m\u001b[0;32m     66\u001b[0m \u001b[1;33m\u001b[0m\u001b[0m\n\u001b[0;32m     67\u001b[0m     \u001b[1;32mreturn\u001b[0m \u001b[0mnew_method\u001b[0m\u001b[1;33m\u001b[0m\u001b[1;33m\u001b[0m\u001b[0m\n",
      "\u001b[1;32mc:\\Users\\cliff\\anaconda3\\lib\\site-packages\\pandas\\core\\arrays\\datetimelike.py\u001b[0m in \u001b[0;36mwrapper\u001b[1;34m(self, other)\u001b[0m\n\u001b[0;32m    116\u001b[0m             \u001b[0mother\u001b[0m \u001b[1;33m=\u001b[0m \u001b[0m_validate_comparison_value\u001b[0m\u001b[1;33m(\u001b[0m\u001b[0mself\u001b[0m\u001b[1;33m,\u001b[0m \u001b[0mother\u001b[0m\u001b[1;33m)\u001b[0m\u001b[1;33m\u001b[0m\u001b[1;33m\u001b[0m\u001b[0m\n\u001b[0;32m    117\u001b[0m         \u001b[1;32mexcept\u001b[0m \u001b[0mInvalidComparison\u001b[0m\u001b[1;33m:\u001b[0m\u001b[1;33m\u001b[0m\u001b[1;33m\u001b[0m\u001b[0m\n\u001b[1;32m--> 118\u001b[1;33m             \u001b[1;32mreturn\u001b[0m \u001b[0minvalid_comparison\u001b[0m\u001b[1;33m(\u001b[0m\u001b[0mself\u001b[0m\u001b[1;33m,\u001b[0m \u001b[0mother\u001b[0m\u001b[1;33m,\u001b[0m \u001b[0mop\u001b[0m\u001b[1;33m)\u001b[0m\u001b[1;33m\u001b[0m\u001b[1;33m\u001b[0m\u001b[0m\n\u001b[0m\u001b[0;32m    119\u001b[0m \u001b[1;33m\u001b[0m\u001b[0m\n\u001b[0;32m    120\u001b[0m         \u001b[0mdtype\u001b[0m \u001b[1;33m=\u001b[0m \u001b[0mgetattr\u001b[0m\u001b[1;33m(\u001b[0m\u001b[0mother\u001b[0m\u001b[1;33m,\u001b[0m \u001b[1;34m\"dtype\"\u001b[0m\u001b[1;33m,\u001b[0m \u001b[1;32mNone\u001b[0m\u001b[1;33m)\u001b[0m\u001b[1;33m\u001b[0m\u001b[1;33m\u001b[0m\u001b[0m\n",
      "\u001b[1;32mc:\\Users\\cliff\\anaconda3\\lib\\site-packages\\pandas\\core\\ops\\invalid.py\u001b[0m in \u001b[0;36minvalid_comparison\u001b[1;34m(left, right, op)\u001b[0m\n\u001b[0;32m     32\u001b[0m     \u001b[1;32melse\u001b[0m\u001b[1;33m:\u001b[0m\u001b[1;33m\u001b[0m\u001b[1;33m\u001b[0m\u001b[0m\n\u001b[0;32m     33\u001b[0m         \u001b[0mtyp\u001b[0m \u001b[1;33m=\u001b[0m \u001b[0mtype\u001b[0m\u001b[1;33m(\u001b[0m\u001b[0mright\u001b[0m\u001b[1;33m)\u001b[0m\u001b[1;33m.\u001b[0m\u001b[0m__name__\u001b[0m\u001b[1;33m\u001b[0m\u001b[1;33m\u001b[0m\u001b[0m\n\u001b[1;32m---> 34\u001b[1;33m         \u001b[1;32mraise\u001b[0m \u001b[0mTypeError\u001b[0m\u001b[1;33m(\u001b[0m\u001b[1;34mf\"Invalid comparison between dtype={left.dtype} and {typ}\"\u001b[0m\u001b[1;33m)\u001b[0m\u001b[1;33m\u001b[0m\u001b[1;33m\u001b[0m\u001b[0m\n\u001b[0m\u001b[0;32m     35\u001b[0m     \u001b[1;32mreturn\u001b[0m \u001b[0mres_values\u001b[0m\u001b[1;33m\u001b[0m\u001b[1;33m\u001b[0m\u001b[0m\n\u001b[0;32m     36\u001b[0m \u001b[1;33m\u001b[0m\u001b[0m\n",
      "\u001b[1;31mTypeError\u001b[0m: Invalid comparison between dtype=period[M] and int"
     ]
    }
   ],
   "source": [
    "pivot_reorder = pivot.iloc[:, [0,2,1,3]]\n",
    "print(pivot_reorder.head())"
   ]
  },
  {
   "cell_type": "code",
   "execution_count": null,
   "metadata": {},
   "outputs": [
    {
     "data": {
      "image/png": "[encoded data removed]",
      "text/plain": [
       "<Figure size 1728x576 with 1 Axes>"
      ]
     },
     "metadata": {
      "needs_background": "dark"
     },
     "output_type": "display_data"
    }
   ],
   "source": [
    "# plot findings - % of revenue per channel per month\n",
    "ax = pivot_reorder.plot.bar(x='Date', rot=40, stacked=True, figsize=(24,8), color=['#ECECEC', '#A0A0B0', '#6B6DB3'])\n",
    "ax.tick_params(axis='x', colors='white', size=14)\n",
    "ax.tick_params(axis='y', colors='white', size=14)\n",
    "# ax.set_facecolor('#1D428A')\n",
    "ax.axes.set_facecolor('#1D428A')\n",
    "ax.set_xlabel('Dates (YYYY-MM)', fontsize=16, color='white')\n",
    "ax.set_ylabel('Percent Revenue Share (%)', fontsize=16, color='white')\n",
    "ax.set_title('Percent Revenue Share per Payment Method', fontsize=24, color='white')\n",
    "ax.legend(['Percent Revenue Share (Quick Chk)', 'Percent Revenue Share (Card)', 'Percent Revenue Share (Paypal)'])\n",
    "ax.grid(axis='y')\n",
    "\n",
    "# plt.figure(figsize=(14,6), facecolor=\"#1D428A\")\n",
    "# plt.tick_params(axis='x', colors='white')\n",
    "# plt.tick_params(axis='y', colors='white')\n",
    "# plt.axes().set_facecolor(\"#1D428A\")\n",
    "# plt.axes().spines['top'].set_color(\"#1D428A\")\n",
    "# plt.axes().spines['right'].set_color(\"#1D428A\")"
   ]
  },
  {
   "cell_type": "code",
   "execution_count": null,
   "metadata": {},
   "outputs": [
    {
     "name": "stdout",
     "output_type": "stream",
     "text": [
      "Index([             ('Date', ''),  ('percent_rev', 'Other'),\n",
      "         ('percent_rev', 'Card'), ('percent_rev', 'PayPal')],\n",
      "      dtype='object')\n",
      "   (Date, )  (percent_rev, Other)  (percent_rev, Card)  (percent_rev, PayPal)\n",
      "2   2019-03              0.254311             0.282037               0.463652\n",
      "7   2019-08              0.274045             0.259279               0.466676\n",
      "9   2019-10              0.326787             0.290758               0.382455\n",
      "11  2019-12              0.258168             0.322399               0.419433\n",
      "13  2020-02              0.358334             0.218070               0.423597\n",
      "14  2020-03              0.317804             0.275279               0.406917\n",
      "17  2020-06              0.421828             0.162899               0.415273\n",
      "19  2020-08              0.274357             0.243969               0.481674\n",
      "20  2020-09              0.266803             0.390754               0.342443\n",
      "22  2020-11              0.312550             0.319712               0.367738\n",
      "23  2020-12              0.284916             0.285057               0.430028\n",
      "24  2021-01              0.294239             0.281097               0.424665\n",
      "26  2021-03              0.341378             0.184266               0.474356\n"
     ]
    }
   ],
   "source": [
    "pivot_reorder.columns = pivot_reorder.columns.to_flat_index()\n",
    "print(pivot_reorder.columns)\n",
    "print(pivot_reorder[pivot_reorder['percent_rev', 'Other'] > 0.25])"
   ]
  },
  {
   "cell_type": "code",
   "execution_count": null,
   "metadata": {},
   "outputs": [
    {
     "name": "stdout",
     "output_type": "stream",
     "text": [
      "   (Date, )  (percent_rev, Other)  (percent_rev, Card)  (percent_rev, PayPal)\n",
      "9   2019-10              0.326787             0.290758               0.382455\n",
      "13  2020-02              0.358334             0.218070               0.423597\n",
      "14  2020-03              0.317804             0.275279               0.406917\n",
      "17  2020-06              0.421828             0.162899               0.415273\n",
      "22  2020-11              0.312550             0.319712               0.367738\n",
      "26  2021-03              0.341378             0.184266               0.474356\n"
     ]
    }
   ],
   "source": [
    "print(pivot_reorder[pivot_reorder['percent_rev', 'Other'] > 0.30])"
   ]
  },
  {
   "cell_type": "code",
   "execution_count": null,
   "metadata": {},
   "outputs": [
    {
     "name": "stdout",
     "output_type": "stream",
     "text": [
      "36321.350000000006\n",
      "43238.100000000006\n",
      "6916.75\n"
     ]
    }
   ],
   "source": [
    "print(max(mrr_quick_cust['Amount_spent'] - min(mrr_quick_cust['Amount_spent'])))\n",
    "print(max(mrr_quick_cust['Amount_spent']))\n",
    "print(min(mrr_quick_cust['Amount_spent']))"
   ]
  },
  {
   "cell_type": "code",
   "execution_count": null,
   "metadata": {},
   "outputs": [
    {
     "name": "stdout",
     "output_type": "stream",
     "text": [
      "25856.335\n"
     ]
    }
   ],
   "source": [
    "import statistics as st\n",
    "print(st.median(mrr_quick_cust['Amount_spent']))"
   ]
  },
  {
   "cell_type": "code",
   "execution_count": null,
   "metadata": {},
   "outputs": [],
   "source": [
    "# % of attendees purchasing food (assume 5 home games/month)"
   ]
  },
  {
   "cell_type": "code",
   "execution_count": null,
   "metadata": {},
   "outputs": [],
   "source": [
    "# conversion rate of customers who leave their seats to buy food per game"
   ]
  },
  {
   "cell_type": "code",
   "execution_count": null,
   "metadata": {},
   "outputs": [],
   "source": [
    "# average time taken foor food purchase per game per customer\n",
    "# average game time missed due to food purchaases per customer"
   ]
  },
  {
   "cell_type": "code",
   "execution_count": null,
   "metadata": {},
   "outputs": [
    {
     "name": "stdout",
     "output_type": "stream",
     "text": [
      "Int64Index([2019, 2019, 2019, 2019, 2019, 2019, 2019, 2019, 2019, 2019,\n",
      "            ...\n",
      "            2021, 2021, 2021, 2021, 2021, 2021, 2021, 2021, 2021, 2021],\n",
      "           dtype='int64', name='Transaction_date', length=2512)\n"
     ]
    }
   ],
   "source": [
    "# data spans from 2019 - 2021\n",
    "test_df = pd.DatetimeIndex(online_cust_data['Transaction_date']).year\n",
    "print(test_df)"
   ]
  }
 ],
 "metadata": {
  "kernelspec": {
   "display_name": "base",
   "language": "python",
   "name": "python3"
  },
  "language_info": {
   "codemirror_mode": {
    "name": "ipython",
    "version": 3
   },
   "file_extension": ".py",
   "mimetype": "text/x-python",
   "name": "python",
   "nbconvert_exporter": "python",
   "pygments_lexer": "ipython3",
   "version": "3.8.5"
  },
  "orig_nbformat": 4,
  "vscode": {
   "interpreter": {
    "hash": "9bd66aa07d4295db33d8c350ee2df52014cfa1a6adde0d73bbac704490c26d8d"
   }
  }
 },
 "nbformat": 4,
 "nbformat_minor": 2
}
